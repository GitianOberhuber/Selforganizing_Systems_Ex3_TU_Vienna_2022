{
 "cells": [
  {
   "cell_type": "markdown",
   "id": "4fe0fafb",
   "metadata": {},
   "source": [
    "### Imports and loading data"
   ]
  },
  {
   "cell_type": "code",
   "execution_count": 6,
   "id": "28820aea",
   "metadata": {},
   "outputs": [],
   "source": [
    "# Read data from Java SOMToolbox\n",
    "from SOMToolBox_Parse import SOMToolBox_Parse\n",
    "from minisom import MiniSom\n",
    "from somtoolbox import SOMToolbox\n",
    "import pickle\n",
    "import collections\n",
    "import matplotlib.image as mpimg\n",
    "import matplotlib.pyplot as plt\n",
    "from PIL import Image\n",
    "import numpy as np\n",
    "import os.path\n",
    "from os import path\n",
    "\n",
    "#load iris data\n",
    "idata = SOMToolBox_Parse(\"datasets\\\\iris\\\\iris.vec\").read_weight_file()\n",
    "weights = SOMToolBox_Parse(\"datasets\\\\iris\\\\iris.wgt.gz\").read_weight_file()\n",
    "classes = SOMToolBox_Parse(\"datasets\\\\iris\\\\iris.cls\").read_weight_file()\n",
    "\n",
    "#load 10clusters data\n",
    "clusters_data = SOMToolBox_Parse(\"datasets\\\\10clusters\\\\10clusters.vec\").read_weight_file()\n",
    "clusters_classes = SOMToolBox_Parse(\"datasets\\\\10clusters\\\\10clusters.cls\").read_weight_file()\n",
    "clusters_weight = SOMToolBox_Parse(\"datasets\\\\10clusters\\\\10clusters.wgt\").read_weight_file()\n",
    "\n",
    "#load chainlink data\n",
    "chain_data = SOMToolBox_Parse(\"datasets\\\\chainlink\\\\chainlink.vec\").read_weight_file()\n",
    "chain_classes = SOMToolBox_Parse(\"datasets\\\\chainlink\\\\chainlink.cls\").read_weight_file()\n",
    "chain_weight = SOMToolBox_Parse(\"datasets\\\\chainlink\\\\chainlink.wgt\").read_weight_file()"
   ]
  },
  {
   "cell_type": "markdown",
   "id": "3044486c",
   "metadata": {},
   "source": [
    "### Functions for the adjacency maps needed for mnemonic SOM"
   ]
  },
  {
   "cell_type": "code",
   "execution_count": 7,
   "id": "bb28d60e",
   "metadata": {},
   "outputs": [],
   "source": [
    "#takes a black-white image and returns a np-array with 1 for white pixels and 0 for black pixels\n",
    "def read_bw_silhouette(filename):\n",
    "    img = Image.open(filename).convert('L')\n",
    "    return np.array(img) / 255\n",
    "\n",
    "#breadth first search for pathfinding between two points in the matrix\n",
    "def bfs(grid, start, wall, goal):\n",
    "    max_x, max_y = grid.shape[0],grid.shape[1]\n",
    "    queue = collections.deque([[start]])\n",
    "    seen = set([start])\n",
    "    while queue:\n",
    "        path = queue.popleft()\n",
    "        x, y = path[-1]\n",
    "        if grid[x][y] == goal:\n",
    "            return path\n",
    "        for x2, y2 in ((x+1,y), (x-1,y), (x,y+1), (x,y-1)):\n",
    "            if 0 <= x2 < max_x and 0 <= y2 < max_y and grid[x2][y2] != wall and (x2, y2) not in seen:\n",
    "                queue.append(path + [(x2, y2)])\n",
    "                seen.add((x2, y2))"
   ]
  },
  {
   "cell_type": "code",
   "execution_count": 8,
   "id": "6abf2987",
   "metadata": {},
   "outputs": [],
   "source": [
    "#convert image array to a dictionary, mapping each point (x,y) to its adjacency matrix\n",
    "def image_array_to_adjacency_mapping(img_np):\n",
    "    adjacency_dict = {}\n",
    "    cur_result_matrix = np.zeros((img_np.shape[0], img_np.shape[1]))\n",
    "    cur_outer_zero = False\n",
    "    cur_inner_zero = False\n",
    "\n",
    "    for i in range(img_np.shape[0]):\n",
    "        for j in range(img_np.shape[1]):\n",
    "            cur_result_matrix = np.zeros((img_np.shape[0], img_np.shape[1]))\n",
    "            if (img_np[i, j] == 0.0):\n",
    "                cur_outer_zero = True\n",
    "            for k in range(img_np.shape[0]):\n",
    "                for l in range(img_np.shape[1]):\n",
    "                    if (img_np[k, l] == 0.0):\n",
    "                        cur_inner_zero = True\n",
    "                    if (cur_outer_zero or cur_inner_zero): #set 0 if either i,j or k,l is \"empty\"\n",
    "                        cur_result_matrix[k, l] = 0\n",
    "                    elif (i == k and j == l): #set 1 for distance of point to itself\n",
    "                        cur_result_matrix[k, l] = 1\n",
    "                    else: #calculate manhattan-distance for all others\n",
    "                        img_np[k, l] = 100.0  # set goal\n",
    "                        path = bfs(img_np, (i, j), 0.0, 100.00)\n",
    "                        if (path == None):\n",
    "                            print(\"Unable to find path between nodes \", (i, j), \"and\", (k, l))\n",
    "                            break\n",
    "                        else:\n",
    "                            cur_result_matrix[k, l] = len(path)\n",
    "                            # reset\n",
    "                            img_np[k, l] = 1.0\n",
    "                    cur_inner_zero = False\n",
    "            cur_result_matrix[np.nonzero(cur_result_matrix)] = 1 / cur_result_matrix[np.nonzero(cur_result_matrix)]\n",
    "            adjacency_dict[i, j] = cur_result_matrix\n",
    "            cur_outer_zero = False\n",
    "    return adjacency_dict"
   ]
  },
  {
   "cell_type": "markdown",
   "id": "06569d5b",
   "metadata": {},
   "source": [
    "### Training mnemonic SOM in the shape of austria with 10clusters data and iris data"
   ]
  },
  {
   "cell_type": "code",
   "execution_count": 12,
   "id": "78962be4",
   "metadata": {
    "scrolled": false
   },
   "outputs": [
    {
     "name": "stdout",
     "output_type": "stream",
     "text": [
      "(20, 40)\n"
     ]
    },
    {
     "data": {},
     "metadata": {},
     "output_type": "display_data"
    },
    {
     "data": {},
     "metadata": {},
     "output_type": "display_data"
    },
    {
     "data": {
      "application/vnd.holoviews_exec.v0+json": "",
      "text/html": [
       "<div id='3362'>\n",
       "\n",
       "\n",
       "\n",
       "\n",
       "\n",
       "  <div class=\"bk-root\" id=\"e10cf4b0-8f77-441e-a735-1577df915912\" data-root-id=\"3362\"></div>\n",
       "</div>\n",
       "<script type=\"application/javascript\">(function(root) {\n",
       "  function embed_document(root) {\n",
       "    var docs_json = {\"761d993a-bf4d-48d6-a5eb-db7e7bdfafdb\":{\"defs\":[{\"extends\":null,\"module\":null,\"name\":\"ReactiveHTML1\",\"overrides\":[],\"properties\":[]},{\"extends\":null,\"module\":null,\"name\":\"FlexBox1\",\"overrides\":[],\"properties\":[{\"default\":\"flex-start\",\"kind\":null,\"name\":\"align_content\"},{\"default\":\"flex-start\",\"kind\":null,\"name\":\"align_items\"},{\"default\":\"row\",\"kind\":null,\"name\":\"flex_direction\"},{\"default\":\"wrap\",\"kind\":null,\"name\":\"flex_wrap\"},{\"default\":\"flex-start\",\"kind\":null,\"name\":\"justify_content\"}]},{\"extends\":null,\"module\":null,\"name\":\"TemplateActions1\",\"overrides\":[],\"properties\":[{\"default\":0,\"kind\":null,\"name\":\"open_modal\"},{\"default\":0,\"kind\":null,\"name\":\"close_modal\"}]},{\"extends\":null,\"module\":null,\"name\":\"MaterialTemplateActions1\",\"overrides\":[],\"properties\":[{\"default\":0,\"kind\":null,\"name\":\"open_modal\"},{\"default\":0,\"kind\":null,\"name\":\"close_modal\"}]}],\"roots\":{\"references\":[{\"attributes\":{\"line_alpha\":{\"value\":0.2},\"line_color\":{\"value\":\"red\"},\"x0\":{\"field\":\"x0\"},\"x1\":{\"field\":\"x1\"},\"y0\":{\"field\":\"y0\"},\"y1\":{\"field\":\"y1\"}},\"id\":\"3430\",\"type\":\"Segment\"},{\"attributes\":{},\"id\":\"3394\",\"type\":\"PanTool\"},{\"attributes\":{\"line_alpha\":{\"value\":1.0},\"line_cap\":{\"value\":\"butt\"},\"line_color\":{\"value\":\"red\"},\"line_dash\":{\"value\":[]},\"line_dash_offset\":{\"value\":0},\"line_join\":{\"value\":\"bevel\"},\"line_width\":{\"value\":1},\"x0\":{\"field\":\"x0\"},\"x1\":{\"field\":\"x1\"},\"y0\":{\"field\":\"y0\"},\"y1\":{\"field\":\"y1\"}},\"id\":\"3433\",\"type\":\"Segment\"},{\"attributes\":{},\"id\":\"3407\",\"type\":\"AllLabels\"},{\"attributes\":{},\"id\":\"3441\",\"type\":\"UnionRenderers\"},{\"attributes\":{},\"id\":\"3395\",\"type\":\"WheelZoomTool\"},{\"attributes\":{},\"id\":\"3386\",\"type\":\"BasicTicker\"},{\"attributes\":{},\"id\":\"3426\",\"type\":\"Selection\"},{\"attributes\":{\"line_alpha\":{\"value\":0.1},\"line_color\":{\"value\":\"red\"},\"x0\":{\"field\":\"x0\"},\"x1\":{\"field\":\"x1\"},\"y0\":{\"field\":\"y0\"},\"y1\":{\"field\":\"y1\"}},\"id\":\"3429\",\"type\":\"Segment\"},{\"attributes\":{},\"id\":\"3393\",\"type\":\"SaveTool\"},{\"attributes\":{\"overlay\":{\"id\":\"3398\"}},\"id\":\"3396\",\"type\":\"BoxZoomTool\"},{\"attributes\":{},\"id\":\"3397\",\"type\":\"ResetTool\"},{\"attributes\":{\"client_comm_id\":\"d6d4e1358ead47719c4aa9e6dfcc1cdc\",\"comm_id\":\"abbce5323c484e6bbd1112efcdfcff06\",\"plot_id\":\"3362\"},\"id\":\"3586\",\"type\":\"panel.models.comm_manager.CommManager\"},{\"attributes\":{\"bottom_units\":\"screen\",\"coordinates\":null,\"fill_alpha\":0.5,\"fill_color\":\"lightgrey\",\"group\":null,\"left_units\":\"screen\",\"level\":\"overlay\",\"line_alpha\":1.0,\"line_color\":\"black\",\"line_dash\":[4,4],\"line_width\":2,\"right_units\":\"screen\",\"syncable\":false,\"top_units\":\"screen\"},\"id\":\"3398\",\"type\":\"BoxAnnotation\"},{\"attributes\":{\"children\":[{\"id\":\"3363\"},{\"id\":\"3548\"}],\"margin\":[0,0,0,0],\"name\":\"Column13497\"},\"id\":\"3362\",\"type\":\"Column\"},{\"attributes\":{\"source\":{\"id\":\"3412\"}},\"id\":\"3422\",\"type\":\"CDSView\"},{\"attributes\":{},\"id\":\"3443\",\"type\":\"UnionRenderers\"},{\"attributes\":{\"children\":[{\"id\":\"3549\"}],\"margin\":[0,0,0,0],\"name\":\"Column13496\"},\"id\":\"3548\",\"type\":\"Column\"},{\"attributes\":{\"tools\":[{\"id\":\"3393\"},{\"id\":\"3394\"},{\"id\":\"3395\"},{\"id\":\"3396\"},{\"id\":\"3397\"}]},\"id\":\"3399\",\"type\":\"Toolbar\"},{\"attributes\":{\"children\":[{\"id\":\"3364\"},{\"id\":\"3372\"}],\"margin\":[0,0,0,0],\"name\":\"Column13495\"},\"id\":\"3363\",\"type\":\"Column\"},{\"attributes\":{\"end\":0.5,\"reset_end\":0.5,\"reset_start\":-0.5,\"start\":-0.5,\"tags\":[[[\"x\",\"x\",null]]]},\"id\":\"3374\",\"type\":\"Range1d\"},{\"attributes\":{},\"id\":\"3406\",\"type\":\"BasicTickFormatter\"},{\"attributes\":{\"high\":1.4309527277326282,\"low\":0.0,\"nan_color\":\"rgba(0, 0, 0, 0)\",\"palette\":[\"#00007f\",\"#000084\",\"#000088\",\"#00008d\",\"#000091\",\"#000096\",\"#00009a\",\"#00009f\",\"#0000a3\",\"#0000a8\",\"#0000ac\",\"#0000b1\",\"#0000b6\",\"#0000ba\",\"#0000bf\",\"#0000c3\",\"#0000c8\",\"#0000cc\",\"#0000d1\",\"#0000d5\",\"#0000da\",\"#0000de\",\"#0000e3\",\"#0000e8\",\"#0000ec\",\"#0000f1\",\"#0000f5\",\"#0000fa\",\"#0000fe\",\"#0000ff\",\"#0000ff\",\"#0000ff\",\"#0000ff\",\"#0004ff\",\"#0008ff\",\"#000cff\",\"#0010ff\",\"#0014ff\",\"#0018ff\",\"#001cff\",\"#0020ff\",\"#0024ff\",\"#0028ff\",\"#002cff\",\"#0030ff\",\"#0034ff\",\"#0038ff\",\"#003cff\",\"#0040ff\",\"#0044ff\",\"#0048ff\",\"#004cff\",\"#0050ff\",\"#0054ff\",\"#0058ff\",\"#005cff\",\"#0060ff\",\"#0064ff\",\"#0068ff\",\"#006cff\",\"#0070ff\",\"#0074ff\",\"#0078ff\",\"#007cff\",\"#0080ff\",\"#0084ff\",\"#0088ff\",\"#008cff\",\"#0090ff\",\"#0094ff\",\"#0098ff\",\"#009cff\",\"#00a0ff\",\"#00a4ff\",\"#00a8ff\",\"#00acff\",\"#00b0ff\",\"#00b4ff\",\"#00b8ff\",\"#00bcff\",\"#00c0ff\",\"#00c4ff\",\"#00c8ff\",\"#00ccff\",\"#00d0ff\",\"#00d4ff\",\"#00d8ff\",\"#00dcfe\",\"#00e0fa\",\"#00e4f7\",\"#02e8f4\",\"#05ecf1\",\"#08f0ed\",\"#0cf4ea\",\"#0ff8e7\",\"#12fce4\",\"#15ffe1\",\"#18ffdd\",\"#1cffda\",\"#1fffd7\",\"#22ffd4\",\"#25ffd0\",\"#29ffcd\",\"#2cffca\",\"#2fffc7\",\"#32ffc3\",\"#36ffc0\",\"#39ffbd\",\"#3cffba\",\"#3fffb7\",\"#42ffb3\",\"#46ffb0\",\"#49ffad\",\"#4cffaa\",\"#4fffa6\",\"#53ffa3\",\"#56ffa0\",\"#59ff9d\",\"#5cff9a\",\"#5fff96\",\"#63ff93\",\"#66ff90\",\"#69ff8d\",\"#6cff89\",\"#70ff86\",\"#73ff83\",\"#76ff80\",\"#79ff7d\",\"#7cff79\",\"#80ff76\",\"#83ff73\",\"#86ff70\",\"#89ff6c\",\"#8dff69\",\"#90ff66\",\"#93ff63\",\"#96ff5f\",\"#9aff5c\",\"#9dff59\",\"#a0ff56\",\"#a3ff53\",\"#a6ff4f\",\"#aaff4c\",\"#adff49\",\"#b0ff46\",\"#b3ff42\",\"#b7ff3f\",\"#baff3c\",\"#bdff39\",\"#c0ff36\",\"#c3ff32\",\"#c7ff2f\",\"#caff2c\",\"#cdff29\",\"#d0ff25\",\"#d4ff22\",\"#d7ff1f\",\"#daff1c\",\"#ddff18\",\"#e0ff15\",\"#e4ff12\",\"#e7ff0f\",\"#eaff0c\",\"#edff08\",\"#f1fc05\",\"#f4f802\",\"#f7f400\",\"#faf000\",\"#feed00\",\"#ffe900\",\"#ffe500\",\"#ffe200\",\"#ffde00\",\"#ffda00\",\"#ffd700\",\"#ffd300\",\"#ffcf00\",\"#ffcb00\",\"#ffc800\",\"#ffc400\",\"#ffc000\",\"#ffbd00\",\"#ffb900\",\"#ffb500\",\"#ffb100\",\"#ffae00\",\"#ffaa00\",\"#ffa600\",\"#ffa300\",\"#ff9f00\",\"#ff9b00\",\"#ff9800\",\"#ff9400\",\"#ff9000\",\"#ff8c00\",\"#ff8900\",\"#ff8500\",\"#ff8100\",\"#ff7e00\",\"#ff7a00\",\"#ff7600\",\"#ff7300\",\"#ff6f00\",\"#ff6b00\",\"#ff6700\",\"#ff6400\",\"#ff6000\",\"#ff5c00\",\"#ff5900\",\"#ff5500\",\"#ff5100\",\"#ff4d00\",\"#ff4a00\",\"#ff4600\",\"#ff4200\",\"#ff3f00\",\"#ff3b00\",\"#ff3700\",\"#ff3400\",\"#ff3000\",\"#ff2c00\",\"#ff2800\",\"#ff2500\",\"#ff2100\",\"#ff1d00\",\"#ff1a00\",\"#ff1600\",\"#fe1200\",\"#fa0f00\",\"#f50b00\",\"#f10700\",\"#ec0300\",\"#e80000\",\"#e30000\",\"#de0000\",\"#da0000\",\"#d50000\",\"#d10000\",\"#cc0000\",\"#c80000\",\"#c30000\",\"#bf0000\",\"#ba0000\",\"#b60000\",\"#b10000\",\"#ac0000\",\"#a80000\",\"#a30000\",\"#9f0000\",\"#9a0000\",\"#960000\",\"#910000\",\"#8d0000\",\"#880000\",\"#840000\",\"#7f0000\"]},\"id\":\"3411\",\"type\":\"LinearColorMapper\"},{\"attributes\":{\"children\":[{\"id\":\"3365\"}],\"margin\":[0,0,0,0],\"name\":\"Column13470\"},\"id\":\"3364\",\"type\":\"Column\"},{\"attributes\":{\"children\":[{\"id\":\"3544\"},{\"id\":\"3547\"}],\"margin\":[0,0,0,0],\"name\":\"\"},\"id\":\"3543\",\"type\":\"Column\"},{\"attributes\":{\"children\":[{\"id\":\"3366\"},{\"id\":\"3367\"},{\"id\":\"3368\"},{\"id\":\"3369\"},{\"id\":\"3370\"},{\"id\":\"3371\"}],\"margin\":[5,5,5,5],\"min_width\":700,\"name\":\"\",\"width\":700},\"id\":\"3365\",\"type\":\"Row\"},{\"attributes\":{\"margin\":[5,5,5,5],\"name\":\"Str13510\",\"text\":\"&lt;pre&gt;Slicing weight vector according it&#x27;s components.&lt;/pre&gt;\"},\"id\":\"3547\",\"type\":\"panel.models.markup.HTML\"},{\"attributes\":{\"color_mapper\":{\"id\":\"3411\"},\"dh\":{\"field\":\"dh\"},\"dw\":{\"field\":\"dw\"},\"global_alpha\":{\"value\":0.1},\"image\":{\"field\":\"image\"},\"x\":{\"field\":\"x\"},\"y\":{\"field\":\"y\"}},\"id\":\"3417\",\"type\":\"Image\"},{\"attributes\":{\"data\":{\"x0\":{\"__ndarray__\":\"\",\"dtype\":\"float64\",\"order\":\"little\",\"shape\":[0]},\"x1\":{\"__ndarray__\":\"\",\"dtype\":\"float64\",\"order\":\"little\",\"shape\":[0]},\"y0\":{\"__ndarray__\":\"\",\"dtype\":\"float64\",\"order\":\"little\",\"shape\":[0]},\"y1\":{\"__ndarray__\":\"\",\"dtype\":\"float64\",\"order\":\"little\",\"shape\":[0]}},\"selected\":{\"id\":\"3426\"},\"selection_policy\":{\"id\":\"3443\"}},\"id\":\"3425\",\"type\":\"ColumnDataSource\"},{\"attributes\":{\"margin\":[5,10,5,10],\"name\":\"\",\"text\":\"<b></b>\"},\"id\":\"3366\",\"type\":\"Div\"},{\"attributes\":{},\"id\":\"3381\",\"type\":\"LinearScale\"},{\"attributes\":{\"children\":[{\"id\":\"3545\"},{\"id\":\"3546\"}],\"margin\":[5,5,5,5],\"min_width\":300,\"name\":\"Component Planes\",\"width\":300},\"id\":\"3544\",\"type\":\"Column\"},{\"attributes\":{\"coordinates\":null,\"group\":null,\"text_color\":\"black\",\"text_font_size\":\"12pt\"},\"id\":\"3377\",\"type\":\"Title\"},{\"attributes\":{\"color_mapper\":{\"id\":\"3411\"},\"dh\":{\"field\":\"dh\"},\"dw\":{\"field\":\"dw\"},\"image\":{\"field\":\"image\"},\"x\":{\"field\":\"x\"},\"y\":{\"field\":\"y\"}},\"id\":\"3415\",\"type\":\"Image\"},{\"attributes\":{\"below\":[{\"id\":\"3385\"}],\"center\":[{\"id\":\"3388\"},{\"id\":\"3392\"}],\"height\":500,\"left\":[{\"id\":\"3389\"}],\"margin\":[5,5,5,5],\"min_border_bottom\":10,\"min_border_left\":10,\"min_border_right\":10,\"min_border_top\":10,\"renderers\":[{\"id\":\"3421\"},{\"id\":\"3431\"}],\"sizing_mode\":\"fixed\",\"title\":{\"id\":\"3377\"},\"toolbar\":{\"id\":\"3399\"},\"width\":500,\"x_range\":{\"id\":\"3374\"},\"x_scale\":{\"id\":\"3381\"},\"y_range\":{\"id\":\"3375\"},\"y_scale\":{\"id\":\"3383\"}},\"id\":\"3376\",\"subtype\":\"Figure\",\"type\":\"Plot\"},{\"attributes\":{\"coordinates\":null,\"data_source\":{\"id\":\"3425\"},\"glyph\":{\"id\":\"3428\"},\"group\":null,\"hover_glyph\":null,\"muted_glyph\":{\"id\":\"3430\"},\"nonselection_glyph\":{\"id\":\"3429\"},\"selection_glyph\":{\"id\":\"3433\"},\"view\":{\"id\":\"3432\"}},\"id\":\"3431\",\"type\":\"GlyphRenderer\"},{\"attributes\":{\"margin\":[5,10,5,10],\"options\":[[\"0\",\"Component Planes\"],[\"1\",\"Hit Histogram\"],[\"2\",\"U-matrix\"],[\"3\",\"D-Matrix\"],[\"4\",\"P-matrix & U*-matrix\"],[\"5\",\"Smoothed Data Histograms\"],[\"6\",\"Pie Chart\"],[\"7\",\"Neighbourhood Graph\"],[\"8\",\"Chessboard\"],[\"9\",\"Clustering\"],[\"10\",\"Metro Map\"],[\"11\",\"Quantization Error\"],[\"12\",\"Time Series\"]],\"value\":\"0\"},\"id\":\"3367\",\"type\":\"Select\"},{\"attributes\":{\"children\":[{\"id\":\"3543\"}],\"margin\":[0,0,0,0],\"name\":\"Row13492\"},\"id\":\"3542\",\"type\":\"Row\"},{\"attributes\":{\"data\":{\"dh\":[1.0],\"dw\":[1.0],\"image\":[{\"__ndarray__\":\"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\",\"dtype\":\"float64\",\"order\":\"little\",\"shape\":[20,40]}],\"x\":[-0.5],\"y\":[-0.5]},\"selected\":{\"id\":\"3413\"},\"selection_policy\":{\"id\":\"3441\"}},\"id\":\"3412\",\"type\":\"ColumnDataSource\"},{\"attributes\":{},\"id\":\"3410\",\"type\":\"AllLabels\"},{\"attributes\":{},\"id\":\"3413\",\"type\":\"Selection\"},{\"attributes\":{\"color_mapper\":{\"id\":\"3411\"},\"dh\":{\"field\":\"dh\"},\"dw\":{\"field\":\"dw\"},\"global_alpha\":{\"value\":1.0},\"image\":{\"field\":\"image\"},\"x\":{\"field\":\"x\"},\"y\":{\"field\":\"y\"}},\"id\":\"3423\",\"type\":\"Image\"},{\"attributes\":{\"icon\":null,\"label\":\"\\u21aa\",\"margin\":[5,10,5,10],\"subscribed_events\":[\"button_click\"]},\"id\":\"3370\",\"type\":\"Button\"},{\"attributes\":{\"reset_end\":1.0,\"reset_start\":-1.0,\"start\":-1.0,\"tags\":[[[\"y\",\"y\",null]]]},\"id\":\"3375\",\"type\":\"Range1d\"},{\"attributes\":{\"margin\":[5,10,5,10],\"name\":\"\",\"text\":\"<b>Component Planes</b>\"},\"id\":\"3545\",\"type\":\"Div\"},{\"attributes\":{\"end\":9,\"margin\":[5,10,5,10],\"start\":0,\"title\":\"Component\",\"value\":0},\"id\":\"3546\",\"type\":\"Slider\"},{\"attributes\":{\"axis_label\":\"y\",\"coordinates\":null,\"formatter\":{\"id\":\"3409\"},\"group\":null,\"major_label_policy\":{\"id\":\"3410\"},\"ticker\":{\"id\":\"3390\"}},\"id\":\"3389\",\"type\":\"LinearAxis\"},{\"attributes\":{\"margin\":[5,10,5,10],\"options\":[[\"PiYG\",\"PiYG\"],[\"PRGn\",\"PRGn\"],[\"BrBG\",\"BrBG\"],[\"PuOr\",\"PuOr\"],[\"RdGy\",\"RdGy\"],[\"RdBu\",\"RdBu\"],[\"RdYlBu\",\"RdYlBu\"],[\"RdYlGn\",\"RdYlGn\"],[\"Spectral\",\"Spectral\"],[\"coolwarm\",\"coolwarm\"],[\"bwr\",\"bwr\"],[\"seismic\",\"seismic\"],[\"gist_gray\",\"gist_gray\"],[\"bone\",\"bone\"],[\"pink\",\"pink\"],[\"spring\",\"spring\"],[\"summer\",\"summer\"],[\"autumn\",\"autumn\"],[\"winter\",\"winter\"],[\"cool\",\"cool\"],[\"Wistia\",\"Wistia\"],[\"hot\",\"hot\"],[\"afmhot\",\"afmhot\"],[\"gist_heat\",\"gist_heat\"],[\"copper\",\"copper\"],[\"Greys\",\"Greys\"],[\"Purples\",\"Purples\"],[\"Blues\",\"Blues\"],[\"Greens\",\"Greens\"],[\"Oranges\",\"Oranges\"],[\"Reds\",\"Reds\"],[\"YlOrBr\",\"YlOrBr\"],[\"YlOrRd\",\"YlOrRd\"],[\"OrRd\",\"OrRd\"],[\"PuRd\",\"PuRd\"],[\"RdPu\",\"RdPu\"],[\"BuPu\",\"BuPu\"],[\"GnBu\",\"GnBu\"],[\"PuBu\",\"PuBu\"],[\"YlGnBu\",\"YlGnBu\"],[\"PuBuGn\",\"PuBuGn\"],[\"BuGn\",\"BuGn\"],[\"YlGn\",\"YlGn\"],[\"viridis\",\"viridis\"],[\"plasma\",\"plasma\"],[\"inferno\",\"inferno\"],[\"magma\",\"magma\"],[\"cividis\",\"cividis\"],[\"twilight\",\"twilight\"],[\"twilight_shifted\",\"twilight_shifted\"],[\"hsv\",\"hsv\"],[\"Pastel1\",\"Pastel1\"],[\"Paired\",\"Paired\"],[\"Accent\",\"Accent\"],[\"Dark2\",\"Dark2\"],[\"Set1\",\"Set1\"],[\"Set2\",\"Set2\"],[\"Set3\",\"Set3\"],[\"tab10\",\"tab10\"],[\"tab20\",\"tab20\"],[\"tab20b\",\"tab20b\"],[\"tab20c\",\"tab20c\"],[\"flag\",\"flag\"],[\"prism\",\"prism\"],[\"ocean\",\"ocean\"],[\"gist_earth\",\"gist_earth\"],[\"terrain\",\"terrain\"],[\"gist_stern\",\"gist_stern\"],[\"gnuplot\",\"gnuplot\"],[\"gnuplot2\",\"gnuplot2\"],[\"CMRmap\",\"CMRmap\"],[\"cubehelix\",\"cubehelix\"],[\"brg\",\"brg\"],[\"gist_rainbow\",\"gist_rainbow\"],[\"rainbow\",\"rainbow\"],[\"jet\",\"jet\"],[\"turbo\",\"turbo\"],[\"nipy_spectral\",\"nipy_spectral\"],[\"gist_ncar\",\"gist_ncar\"],[\"glasbey_dark\",\"glasbey_dark\"]],\"value\":\"jet\"},\"id\":\"3368\",\"type\":\"Select\"},{\"attributes\":{\"axis\":{\"id\":\"3385\"},\"coordinates\":null,\"grid_line_color\":null,\"group\":null,\"ticker\":null},\"id\":\"3388\",\"type\":\"Grid\"},{\"attributes\":{\"color_mapper\":{\"id\":\"3411\"},\"dh\":{\"field\":\"dh\"},\"dw\":{\"field\":\"dw\"},\"global_alpha\":{\"value\":0.2},\"image\":{\"field\":\"image\"},\"x\":{\"field\":\"x\"},\"y\":{\"field\":\"y\"}},\"id\":\"3419\",\"type\":\"Image\"},{\"attributes\":{\"source\":{\"id\":\"3425\"}},\"id\":\"3432\",\"type\":\"CDSView\"},{\"attributes\":{\"icon\":null,\"label\":\"\\u21a9\",\"margin\":[5,10,5,10],\"subscribed_events\":[\"button_click\"]},\"id\":\"3369\",\"type\":\"Button\"},{\"attributes\":{\"axis_label\":\"x\",\"coordinates\":null,\"formatter\":{\"id\":\"3406\"},\"group\":null,\"major_label_policy\":{\"id\":\"3407\"},\"ticker\":{\"id\":\"3386\"}},\"id\":\"3385\",\"type\":\"LinearAxis\"},{\"attributes\":{\"line_color\":{\"value\":\"red\"},\"x0\":{\"field\":\"x0\"},\"x1\":{\"field\":\"x1\"},\"y0\":{\"field\":\"y0\"},\"y1\":{\"field\":\"y1\"}},\"id\":\"3428\",\"type\":\"Segment\"},{\"attributes\":{\"children\":[{\"id\":\"3373\"},{\"id\":\"3542\"}],\"margin\":[0,0,0,0],\"name\":\"Row13494\"},\"id\":\"3372\",\"type\":\"Row\"},{\"attributes\":{\"coordinates\":null,\"data_source\":{\"id\":\"3412\"},\"glyph\":{\"id\":\"3415\"},\"group\":null,\"hover_glyph\":null,\"muted_glyph\":{\"id\":\"3419\"},\"nonselection_glyph\":{\"id\":\"3417\"},\"selection_glyph\":{\"id\":\"3423\"},\"view\":{\"id\":\"3422\"}},\"id\":\"3421\",\"type\":\"GlyphRenderer\"},{\"attributes\":{},\"id\":\"3390\",\"type\":\"BasicTicker\"},{\"attributes\":{\"labels\":[\"interpolation\"],\"margin\":[5,10,5,10]},\"id\":\"3371\",\"type\":\"CheckboxGroup\"},{\"attributes\":{},\"id\":\"3409\",\"type\":\"BasicTickFormatter\"},{\"attributes\":{\"axis\":{\"id\":\"3389\"},\"coordinates\":null,\"dimension\":1,\"grid_line_color\":null,\"group\":null,\"ticker\":null},\"id\":\"3392\",\"type\":\"Grid\"},{\"attributes\":{},\"id\":\"3383\",\"type\":\"LinearScale\"},{\"attributes\":{\"margin\":[0,0,0,0],\"name\":\"Row13493\"},\"id\":\"3549\",\"type\":\"Row\"},{\"attributes\":{\"children\":[{\"id\":\"3376\"}],\"margin\":[0,0,0,0],\"name\":\"Column13491\"},\"id\":\"3373\",\"type\":\"Column\"}],\"root_ids\":[\"3362\",\"3586\"]},\"title\":\"Bokeh Application\",\"version\":\"2.4.2\"}};\n",
       "    var render_items = [{\"docid\":\"761d993a-bf4d-48d6-a5eb-db7e7bdfafdb\",\"root_ids\":[\"3362\"],\"roots\":{\"3362\":\"e10cf4b0-8f77-441e-a735-1577df915912\"}}];\n",
       "    root.Bokeh.embed.embed_items_notebook(docs_json, render_items);\n",
       "  }\n",
       "  if (root.Bokeh !== undefined && root.Bokeh.Panel !== undefined) {\n",
       "    embed_document(root);\n",
       "  } else {\n",
       "    var attempts = 0;\n",
       "    var timer = setInterval(function(root) {\n",
       "      if (root.Bokeh !== undefined && root.Bokeh.Panel !== undefined) {\n",
       "        clearInterval(timer);\n",
       "        embed_document(root);\n",
       "      } else if (document.readyState == \"complete\") {\n",
       "        attempts++;\n",
       "        if (attempts > 200) {\n",
       "          clearInterval(timer);\n",
       "          console.log(\"Bokeh: ERROR: Unable to run BokehJS code because BokehJS library is missing\");\n",
       "        }\n",
       "      }\n",
       "    }, 25, root)\n",
       "  }\n",
       "})(window);</script>"
      ],
      "text/plain": [
       "Column\n",
       "    [0] Column\n",
       "        [0] Column\n",
       "            [0] Row(margin=5, width=700)\n",
       "                [0] StaticText(value='<b></b>')\n",
       "                [1] Select(options=OrderedDict([('Component P...]), value=0)\n",
       "                [2] Select(options=OrderedDict([('PiYG', ...]), value='jet')\n",
       "                [3] Button(name='↩')\n",
       "                [4] Button(name='↪')\n",
       "                [5] Checkbox(name='interpolation')\n",
       "        [1] Row\n",
       "            [0] Column\n",
       "                [0] HoloViews(DynamicMap)\n",
       "            [1] Row\n",
       "                [0] Column\n",
       "                    [0] Column(margin=5, name='Component Planes', width=300)\n",
       "                        [0] StaticText(value='<b>Component Planes</b>')\n",
       "                        [1] IntSlider(end=9, name='Component')\n",
       "                    [1] Str(str)\n",
       "    [1] Column\n",
       "        [0] Row()"
      ]
     },
     "execution_count": 12,
     "metadata": {
      "application/vnd.holoviews_exec.v0+json": {
       "id": "3362"
      }
     },
     "output_type": "execute_result"
    }
   ],
   "source": [
    "#load sillhouette image and transform to numpy array:\n",
    "img_arr = read_bw_silhouette('austria.png')\n",
    "print(img_arr.shape)\n",
    "\n",
    "#create adjacancy dictionary or load if already exists (pickled):\n",
    "adjacency_dict = {}\n",
    "if (path.exists(\"adjacency_austria.pickle\")):\n",
    "    with open('adjacency_austria.pickle', 'rb') as handle:\n",
    "        adjacency_dict = pickle.load(handle)\n",
    "else:\n",
    "    adjacency_dict = image_array_to_adjacency_mapping(img_arr)\n",
    "    with open(\"adjacency_austria.pickle\", \"wb\") as output_file:\n",
    "        pickle.dump(adjacency_dict, output_file)\n",
    "\n",
    "#train mnemonic SOM\n",
    "data = clusters_data\n",
    "som = MiniSom(20, 40, data['vec_dim'], sigma=2, learning_rate=1, neighborhood_function = 'lookup',\n",
    "              activation_distance='manhattan_mnemonic' , lookuptable = adjacency_dict,\n",
    "              mnemonic_shape = img_arr)\n",
    "som.train(data['arr'], 1000)\n",
    "\n",
    "#visualize\n",
    "sm = SOMToolbox(weights=som._weights.reshape(-1, data['vec_dim']), \n",
    "                n=40, m=20, dimension=data['vec_dim'], input_data=data['arr'])\n",
    "sm._mainview"
   ]
  },
  {
   "cell_type": "code",
   "execution_count": 13,
   "id": "6b7ad97f",
   "metadata": {},
   "outputs": [
    {
     "data": {},
     "metadata": {},
     "output_type": "display_data"
    },
    {
     "data": {},
     "metadata": {},
     "output_type": "display_data"
    },
    {
     "data": {
      "application/vnd.holoviews_exec.v0+json": "",
      "text/html": [
       "<div id='3647'>\n",
       "\n",
       "\n",
       "\n",
       "\n",
       "\n",
       "  <div class=\"bk-root\" id=\"badfedc2-2672-472c-b8b2-a9762d9c23d9\" data-root-id=\"3647\"></div>\n",
       "</div>\n",
       "<script type=\"application/javascript\">(function(root) {\n",
       "  function embed_document(root) {\n",
       "    var docs_json = {\"32d5b595-cd36-48c3-85e5-950fbf7a0374\":{\"defs\":[{\"extends\":null,\"module\":null,\"name\":\"ReactiveHTML1\",\"overrides\":[],\"properties\":[]},{\"extends\":null,\"module\":null,\"name\":\"FlexBox1\",\"overrides\":[],\"properties\":[{\"default\":\"flex-start\",\"kind\":null,\"name\":\"align_content\"},{\"default\":\"flex-start\",\"kind\":null,\"name\":\"align_items\"},{\"default\":\"row\",\"kind\":null,\"name\":\"flex_direction\"},{\"default\":\"wrap\",\"kind\":null,\"name\":\"flex_wrap\"},{\"default\":\"flex-start\",\"kind\":null,\"name\":\"justify_content\"}]},{\"extends\":null,\"module\":null,\"name\":\"TemplateActions1\",\"overrides\":[],\"properties\":[{\"default\":0,\"kind\":null,\"name\":\"open_modal\"},{\"default\":0,\"kind\":null,\"name\":\"close_modal\"}]},{\"extends\":null,\"module\":null,\"name\":\"MaterialTemplateActions1\",\"overrides\":[],\"properties\":[{\"default\":0,\"kind\":null,\"name\":\"open_modal\"},{\"default\":0,\"kind\":null,\"name\":\"close_modal\"}]}],\"roots\":{\"references\":[{\"attributes\":{},\"id\":\"3711\",\"type\":\"Selection\"},{\"attributes\":{\"children\":[{\"id\":\"3834\"}],\"margin\":[0,0,0,0],\"name\":\"Column13998\"},\"id\":\"3833\",\"type\":\"Column\"},{\"attributes\":{\"children\":[{\"id\":\"3649\"},{\"id\":\"3657\"}],\"margin\":[0,0,0,0],\"name\":\"Column13997\"},\"id\":\"3648\",\"type\":\"Column\"},{\"attributes\":{\"tools\":[{\"id\":\"3678\"},{\"id\":\"3679\"},{\"id\":\"3680\"},{\"id\":\"3681\"},{\"id\":\"3682\"}]},\"id\":\"3684\",\"type\":\"Toolbar\"},{\"attributes\":{\"source\":{\"id\":\"3697\"}},\"id\":\"3707\",\"type\":\"CDSView\"},{\"attributes\":{\"children\":[{\"id\":\"3650\"}],\"margin\":[0,0,0,0],\"name\":\"Column13972\"},\"id\":\"3649\",\"type\":\"Column\"},{\"attributes\":{\"children\":[{\"id\":\"3828\"}],\"margin\":[0,0,0,0],\"name\":\"Row13994\"},\"id\":\"3827\",\"type\":\"Row\"},{\"attributes\":{\"margin\":[5,10,5,10],\"name\":\"\",\"text\":\"<b>Component Planes</b>\"},\"id\":\"3830\",\"type\":\"Div\"},{\"attributes\":{\"children\":[{\"id\":\"3651\"},{\"id\":\"3652\"},{\"id\":\"3653\"},{\"id\":\"3654\"},{\"id\":\"3655\"},{\"id\":\"3656\"}],\"margin\":[5,5,5,5],\"min_width\":700,\"name\":\"\",\"width\":700},\"id\":\"3650\",\"type\":\"Row\"},{\"attributes\":{\"reset_end\":1.0,\"reset_start\":-1.0,\"start\":-1.0,\"tags\":[[[\"y\",\"y\",null]]]},\"id\":\"3660\",\"type\":\"Range1d\"},{\"attributes\":{},\"id\":\"3666\",\"type\":\"LinearScale\"},{\"attributes\":{\"line_alpha\":{\"value\":0.1},\"line_color\":{\"value\":\"red\"},\"x0\":{\"field\":\"x0\"},\"x1\":{\"field\":\"x1\"},\"y0\":{\"field\":\"y0\"},\"y1\":{\"field\":\"y1\"}},\"id\":\"3714\",\"type\":\"Segment\"},{\"attributes\":{\"margin\":[5,10,5,10],\"name\":\"\",\"text\":\"<b></b>\"},\"id\":\"3651\",\"type\":\"Div\"},{\"attributes\":{\"bottom_units\":\"screen\",\"coordinates\":null,\"fill_alpha\":0.5,\"fill_color\":\"lightgrey\",\"group\":null,\"left_units\":\"screen\",\"level\":\"overlay\",\"line_alpha\":1.0,\"line_color\":\"black\",\"line_dash\":[4,4],\"line_width\":2,\"right_units\":\"screen\",\"syncable\":false,\"top_units\":\"screen\"},\"id\":\"3683\",\"type\":\"BoxAnnotation\"},{\"attributes\":{\"high\":6.28298606580518,\"low\":0.0,\"nan_color\":\"rgba(0, 0, 0, 0)\",\"palette\":[\"#00007f\",\"#000084\",\"#000088\",\"#00008d\",\"#000091\",\"#000096\",\"#00009a\",\"#00009f\",\"#0000a3\",\"#0000a8\",\"#0000ac\",\"#0000b1\",\"#0000b6\",\"#0000ba\",\"#0000bf\",\"#0000c3\",\"#0000c8\",\"#0000cc\",\"#0000d1\",\"#0000d5\",\"#0000da\",\"#0000de\",\"#0000e3\",\"#0000e8\",\"#0000ec\",\"#0000f1\",\"#0000f5\",\"#0000fa\",\"#0000fe\",\"#0000ff\",\"#0000ff\",\"#0000ff\",\"#0000ff\",\"#0004ff\",\"#0008ff\",\"#000cff\",\"#0010ff\",\"#0014ff\",\"#0018ff\",\"#001cff\",\"#0020ff\",\"#0024ff\",\"#0028ff\",\"#002cff\",\"#0030ff\",\"#0034ff\",\"#0038ff\",\"#003cff\",\"#0040ff\",\"#0044ff\",\"#0048ff\",\"#004cff\",\"#0050ff\",\"#0054ff\",\"#0058ff\",\"#005cff\",\"#0060ff\",\"#0064ff\",\"#0068ff\",\"#006cff\",\"#0070ff\",\"#0074ff\",\"#0078ff\",\"#007cff\",\"#0080ff\",\"#0084ff\",\"#0088ff\",\"#008cff\",\"#0090ff\",\"#0094ff\",\"#0098ff\",\"#009cff\",\"#00a0ff\",\"#00a4ff\",\"#00a8ff\",\"#00acff\",\"#00b0ff\",\"#00b4ff\",\"#00b8ff\",\"#00bcff\",\"#00c0ff\",\"#00c4ff\",\"#00c8ff\",\"#00ccff\",\"#00d0ff\",\"#00d4ff\",\"#00d8ff\",\"#00dcfe\",\"#00e0fa\",\"#00e4f7\",\"#02e8f4\",\"#05ecf1\",\"#08f0ed\",\"#0cf4ea\",\"#0ff8e7\",\"#12fce4\",\"#15ffe1\",\"#18ffdd\",\"#1cffda\",\"#1fffd7\",\"#22ffd4\",\"#25ffd0\",\"#29ffcd\",\"#2cffca\",\"#2fffc7\",\"#32ffc3\",\"#36ffc0\",\"#39ffbd\",\"#3cffba\",\"#3fffb7\",\"#42ffb3\",\"#46ffb0\",\"#49ffad\",\"#4cffaa\",\"#4fffa6\",\"#53ffa3\",\"#56ffa0\",\"#59ff9d\",\"#5cff9a\",\"#5fff96\",\"#63ff93\",\"#66ff90\",\"#69ff8d\",\"#6cff89\",\"#70ff86\",\"#73ff83\",\"#76ff80\",\"#79ff7d\",\"#7cff79\",\"#80ff76\",\"#83ff73\",\"#86ff70\",\"#89ff6c\",\"#8dff69\",\"#90ff66\",\"#93ff63\",\"#96ff5f\",\"#9aff5c\",\"#9dff59\",\"#a0ff56\",\"#a3ff53\",\"#a6ff4f\",\"#aaff4c\",\"#adff49\",\"#b0ff46\",\"#b3ff42\",\"#b7ff3f\",\"#baff3c\",\"#bdff39\",\"#c0ff36\",\"#c3ff32\",\"#c7ff2f\",\"#caff2c\",\"#cdff29\",\"#d0ff25\",\"#d4ff22\",\"#d7ff1f\",\"#daff1c\",\"#ddff18\",\"#e0ff15\",\"#e4ff12\",\"#e7ff0f\",\"#eaff0c\",\"#edff08\",\"#f1fc05\",\"#f4f802\",\"#f7f400\",\"#faf000\",\"#feed00\",\"#ffe900\",\"#ffe500\",\"#ffe200\",\"#ffde00\",\"#ffda00\",\"#ffd700\",\"#ffd300\",\"#ffcf00\",\"#ffcb00\",\"#ffc800\",\"#ffc400\",\"#ffc000\",\"#ffbd00\",\"#ffb900\",\"#ffb500\",\"#ffb100\",\"#ffae00\",\"#ffaa00\",\"#ffa600\",\"#ffa300\",\"#ff9f00\",\"#ff9b00\",\"#ff9800\",\"#ff9400\",\"#ff9000\",\"#ff8c00\",\"#ff8900\",\"#ff8500\",\"#ff8100\",\"#ff7e00\",\"#ff7a00\",\"#ff7600\",\"#ff7300\",\"#ff6f00\",\"#ff6b00\",\"#ff6700\",\"#ff6400\",\"#ff6000\",\"#ff5c00\",\"#ff5900\",\"#ff5500\",\"#ff5100\",\"#ff4d00\",\"#ff4a00\",\"#ff4600\",\"#ff4200\",\"#ff3f00\",\"#ff3b00\",\"#ff3700\",\"#ff3400\",\"#ff3000\",\"#ff2c00\",\"#ff2800\",\"#ff2500\",\"#ff2100\",\"#ff1d00\",\"#ff1a00\",\"#ff1600\",\"#fe1200\",\"#fa0f00\",\"#f50b00\",\"#f10700\",\"#ec0300\",\"#e80000\",\"#e30000\",\"#de0000\",\"#da0000\",\"#d50000\",\"#d10000\",\"#cc0000\",\"#c80000\",\"#c30000\",\"#bf0000\",\"#ba0000\",\"#b60000\",\"#b10000\",\"#ac0000\",\"#a80000\",\"#a30000\",\"#9f0000\",\"#9a0000\",\"#960000\",\"#910000\",\"#8d0000\",\"#880000\",\"#840000\",\"#7f0000\"]},\"id\":\"3696\",\"type\":\"LinearColorMapper\"},{\"attributes\":{\"axis\":{\"id\":\"3674\"},\"coordinates\":null,\"dimension\":1,\"grid_line_color\":null,\"group\":null,\"ticker\":null},\"id\":\"3677\",\"type\":\"Grid\"},{\"attributes\":{\"children\":[{\"id\":\"3648\"},{\"id\":\"3833\"}],\"margin\":[0,0,0,0],\"name\":\"Column13999\"},\"id\":\"3647\",\"type\":\"Column\"},{\"attributes\":{},\"id\":\"3668\",\"type\":\"LinearScale\"},{\"attributes\":{\"margin\":[5,10,5,10],\"options\":[[\"0\",\"Component Planes\"],[\"1\",\"Hit Histogram\"],[\"2\",\"U-matrix\"],[\"3\",\"D-Matrix\"],[\"4\",\"P-matrix & U*-matrix\"],[\"5\",\"Smoothed Data Histograms\"],[\"6\",\"Pie Chart\"],[\"7\",\"Neighbourhood Graph\"],[\"8\",\"Chessboard\"],[\"9\",\"Clustering\"],[\"10\",\"Metro Map\"],[\"11\",\"Quantization Error\"],[\"12\",\"Time Series\"]],\"value\":\"0\"},\"id\":\"3652\",\"type\":\"Select\"},{\"attributes\":{\"coordinates\":null,\"group\":null,\"text_color\":\"black\",\"text_font_size\":\"12pt\"},\"id\":\"3662\",\"type\":\"Title\"},{\"attributes\":{},\"id\":\"3692\",\"type\":\"AllLabels\"},{\"attributes\":{\"end\":3,\"margin\":[5,10,5,10],\"start\":0,\"title\":\"Component\",\"value\":0},\"id\":\"3831\",\"type\":\"Slider\"},{\"attributes\":{},\"id\":\"3675\",\"type\":\"BasicTicker\"},{\"attributes\":{\"axis_label\":\"x\",\"coordinates\":null,\"formatter\":{\"id\":\"3691\"},\"group\":null,\"major_label_policy\":{\"id\":\"3692\"},\"ticker\":{\"id\":\"3671\"}},\"id\":\"3670\",\"type\":\"LinearAxis\"},{\"attributes\":{\"icon\":null,\"label\":\"\\u21aa\",\"margin\":[5,10,5,10],\"subscribed_events\":[\"button_click\"]},\"id\":\"3655\",\"type\":\"Button\"},{\"attributes\":{\"data\":{\"dh\":[1.0],\"dw\":[1.0],\"image\":[{\"__ndarray__\":\"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\",\"dtype\":\"float64\",\"order\":\"little\",\"shape\":[20,40]}],\"x\":[-0.5],\"y\":[-0.5]},\"selected\":{\"id\":\"3698\"},\"selection_policy\":{\"id\":\"3726\"}},\"id\":\"3697\",\"type\":\"ColumnDataSource\"},{\"attributes\":{\"color_mapper\":{\"id\":\"3696\"},\"dh\":{\"field\":\"dh\"},\"dw\":{\"field\":\"dw\"},\"global_alpha\":{\"value\":0.1},\"image\":{\"field\":\"image\"},\"x\":{\"field\":\"x\"},\"y\":{\"field\":\"y\"}},\"id\":\"3702\",\"type\":\"Image\"},{\"attributes\":{\"margin\":[5,10,5,10],\"options\":[[\"PiYG\",\"PiYG\"],[\"PRGn\",\"PRGn\"],[\"BrBG\",\"BrBG\"],[\"PuOr\",\"PuOr\"],[\"RdGy\",\"RdGy\"],[\"RdBu\",\"RdBu\"],[\"RdYlBu\",\"RdYlBu\"],[\"RdYlGn\",\"RdYlGn\"],[\"Spectral\",\"Spectral\"],[\"coolwarm\",\"coolwarm\"],[\"bwr\",\"bwr\"],[\"seismic\",\"seismic\"],[\"gist_gray\",\"gist_gray\"],[\"bone\",\"bone\"],[\"pink\",\"pink\"],[\"spring\",\"spring\"],[\"summer\",\"summer\"],[\"autumn\",\"autumn\"],[\"winter\",\"winter\"],[\"cool\",\"cool\"],[\"Wistia\",\"Wistia\"],[\"hot\",\"hot\"],[\"afmhot\",\"afmhot\"],[\"gist_heat\",\"gist_heat\"],[\"copper\",\"copper\"],[\"Greys\",\"Greys\"],[\"Purples\",\"Purples\"],[\"Blues\",\"Blues\"],[\"Greens\",\"Greens\"],[\"Oranges\",\"Oranges\"],[\"Reds\",\"Reds\"],[\"YlOrBr\",\"YlOrBr\"],[\"YlOrRd\",\"YlOrRd\"],[\"OrRd\",\"OrRd\"],[\"PuRd\",\"PuRd\"],[\"RdPu\",\"RdPu\"],[\"BuPu\",\"BuPu\"],[\"GnBu\",\"GnBu\"],[\"PuBu\",\"PuBu\"],[\"YlGnBu\",\"YlGnBu\"],[\"PuBuGn\",\"PuBuGn\"],[\"BuGn\",\"BuGn\"],[\"YlGn\",\"YlGn\"],[\"viridis\",\"viridis\"],[\"plasma\",\"plasma\"],[\"inferno\",\"inferno\"],[\"magma\",\"magma\"],[\"cividis\",\"cividis\"],[\"twilight\",\"twilight\"],[\"twilight_shifted\",\"twilight_shifted\"],[\"hsv\",\"hsv\"],[\"Pastel1\",\"Pastel1\"],[\"Paired\",\"Paired\"],[\"Accent\",\"Accent\"],[\"Dark2\",\"Dark2\"],[\"Set1\",\"Set1\"],[\"Set2\",\"Set2\"],[\"Set3\",\"Set3\"],[\"tab10\",\"tab10\"],[\"tab20\",\"tab20\"],[\"tab20b\",\"tab20b\"],[\"tab20c\",\"tab20c\"],[\"flag\",\"flag\"],[\"prism\",\"prism\"],[\"ocean\",\"ocean\"],[\"gist_earth\",\"gist_earth\"],[\"terrain\",\"terrain\"],[\"gist_stern\",\"gist_stern\"],[\"gnuplot\",\"gnuplot\"],[\"gnuplot2\",\"gnuplot2\"],[\"CMRmap\",\"CMRmap\"],[\"cubehelix\",\"cubehelix\"],[\"brg\",\"brg\"],[\"gist_rainbow\",\"gist_rainbow\"],[\"rainbow\",\"rainbow\"],[\"jet\",\"jet\"],[\"turbo\",\"turbo\"],[\"nipy_spectral\",\"nipy_spectral\"],[\"gist_ncar\",\"gist_ncar\"],[\"glasbey_dark\",\"glasbey_dark\"]],\"value\":\"jet\"},\"id\":\"3653\",\"type\":\"Select\"},{\"attributes\":{},\"id\":\"3691\",\"type\":\"BasicTickFormatter\"},{\"attributes\":{\"below\":[{\"id\":\"3670\"}],\"center\":[{\"id\":\"3673\"},{\"id\":\"3677\"}],\"height\":500,\"left\":[{\"id\":\"3674\"}],\"margin\":[5,5,5,5],\"min_border_bottom\":10,\"min_border_left\":10,\"min_border_right\":10,\"min_border_top\":10,\"renderers\":[{\"id\":\"3706\"},{\"id\":\"3716\"}],\"sizing_mode\":\"fixed\",\"title\":{\"id\":\"3662\"},\"toolbar\":{\"id\":\"3684\"},\"width\":500,\"x_range\":{\"id\":\"3659\"},\"x_scale\":{\"id\":\"3666\"},\"y_range\":{\"id\":\"3660\"},\"y_scale\":{\"id\":\"3668\"}},\"id\":\"3661\",\"subtype\":\"Figure\",\"type\":\"Plot\"},{\"attributes\":{\"icon\":null,\"label\":\"\\u21a9\",\"margin\":[5,10,5,10],\"subscribed_events\":[\"button_click\"]},\"id\":\"3654\",\"type\":\"Button\"},{\"attributes\":{\"margin\":[0,0,0,0],\"name\":\"Row13995\"},\"id\":\"3834\",\"type\":\"Row\"},{\"attributes\":{\"children\":[{\"id\":\"3658\"},{\"id\":\"3827\"}],\"margin\":[0,0,0,0],\"name\":\"Row13996\"},\"id\":\"3657\",\"type\":\"Row\"},{\"attributes\":{},\"id\":\"3695\",\"type\":\"AllLabels\"},{\"attributes\":{\"labels\":[\"interpolation\"],\"margin\":[5,10,5,10]},\"id\":\"3656\",\"type\":\"CheckboxGroup\"},{\"attributes\":{\"line_alpha\":{\"value\":1.0},\"line_cap\":{\"value\":\"butt\"},\"line_color\":{\"value\":\"red\"},\"line_dash\":{\"value\":[]},\"line_dash_offset\":{\"value\":0},\"line_join\":{\"value\":\"bevel\"},\"line_width\":{\"value\":1},\"x0\":{\"field\":\"x0\"},\"x1\":{\"field\":\"x1\"},\"y0\":{\"field\":\"y0\"},\"y1\":{\"field\":\"y1\"}},\"id\":\"3718\",\"type\":\"Segment\"},{\"attributes\":{\"color_mapper\":{\"id\":\"3696\"},\"dh\":{\"field\":\"dh\"},\"dw\":{\"field\":\"dw\"},\"global_alpha\":{\"value\":0.2},\"image\":{\"field\":\"image\"},\"x\":{\"field\":\"x\"},\"y\":{\"field\":\"y\"}},\"id\":\"3704\",\"type\":\"Image\"},{\"attributes\":{},\"id\":\"3679\",\"type\":\"PanTool\"},{\"attributes\":{},\"id\":\"3680\",\"type\":\"WheelZoomTool\"},{\"attributes\":{\"children\":[{\"id\":\"3830\"},{\"id\":\"3831\"}],\"margin\":[5,5,5,5],\"min_width\":300,\"name\":\"Component Planes\",\"width\":300},\"id\":\"3829\",\"type\":\"Column\"},{\"attributes\":{},\"id\":\"3671\",\"type\":\"BasicTicker\"},{\"attributes\":{},\"id\":\"3726\",\"type\":\"UnionRenderers\"},{\"attributes\":{\"axis_label\":\"y\",\"coordinates\":null,\"formatter\":{\"id\":\"3694\"},\"group\":null,\"major_label_policy\":{\"id\":\"3695\"},\"ticker\":{\"id\":\"3675\"}},\"id\":\"3674\",\"type\":\"LinearAxis\"},{\"attributes\":{\"children\":[{\"id\":\"3661\"}],\"margin\":[0,0,0,0],\"name\":\"Column13993\"},\"id\":\"3658\",\"type\":\"Column\"},{\"attributes\":{},\"id\":\"3678\",\"type\":\"SaveTool\"},{\"attributes\":{},\"id\":\"3694\",\"type\":\"BasicTickFormatter\"},{\"attributes\":{\"axis\":{\"id\":\"3670\"},\"coordinates\":null,\"grid_line_color\":null,\"group\":null,\"ticker\":null},\"id\":\"3673\",\"type\":\"Grid\"},{\"attributes\":{\"margin\":[5,5,5,5],\"name\":\"Str14012\",\"text\":\"&lt;pre&gt;Slicing weight vector according it&#x27;s components.&lt;/pre&gt;\"},\"id\":\"3832\",\"type\":\"panel.models.markup.HTML\"},{\"attributes\":{\"overlay\":{\"id\":\"3683\"}},\"id\":\"3681\",\"type\":\"BoxZoomTool\"},{\"attributes\":{\"line_alpha\":{\"value\":0.2},\"line_color\":{\"value\":\"red\"},\"x0\":{\"field\":\"x0\"},\"x1\":{\"field\":\"x1\"},\"y0\":{\"field\":\"y0\"},\"y1\":{\"field\":\"y1\"}},\"id\":\"3715\",\"type\":\"Segment\"},{\"attributes\":{\"color_mapper\":{\"id\":\"3696\"},\"dh\":{\"field\":\"dh\"},\"dw\":{\"field\":\"dw\"},\"image\":{\"field\":\"image\"},\"x\":{\"field\":\"x\"},\"y\":{\"field\":\"y\"}},\"id\":\"3700\",\"type\":\"Image\"},{\"attributes\":{},\"id\":\"3682\",\"type\":\"ResetTool\"},{\"attributes\":{\"client_comm_id\":\"4dd03be95e384b23b3218292162086b5\",\"comm_id\":\"cbef19da06f142a1a42757124b9b91ea\",\"plot_id\":\"3647\"},\"id\":\"3871\",\"type\":\"panel.models.comm_manager.CommManager\"},{\"attributes\":{\"line_color\":{\"value\":\"red\"},\"x0\":{\"field\":\"x0\"},\"x1\":{\"field\":\"x1\"},\"y0\":{\"field\":\"y0\"},\"y1\":{\"field\":\"y1\"}},\"id\":\"3713\",\"type\":\"Segment\"},{\"attributes\":{\"source\":{\"id\":\"3710\"}},\"id\":\"3717\",\"type\":\"CDSView\"},{\"attributes\":{\"coordinates\":null,\"data_source\":{\"id\":\"3697\"},\"glyph\":{\"id\":\"3700\"},\"group\":null,\"hover_glyph\":null,\"muted_glyph\":{\"id\":\"3704\"},\"nonselection_glyph\":{\"id\":\"3702\"},\"selection_glyph\":{\"id\":\"3708\"},\"view\":{\"id\":\"3707\"}},\"id\":\"3706\",\"type\":\"GlyphRenderer\"},{\"attributes\":{\"coordinates\":null,\"data_source\":{\"id\":\"3710\"},\"glyph\":{\"id\":\"3713\"},\"group\":null,\"hover_glyph\":null,\"muted_glyph\":{\"id\":\"3715\"},\"nonselection_glyph\":{\"id\":\"3714\"},\"selection_glyph\":{\"id\":\"3718\"},\"view\":{\"id\":\"3717\"}},\"id\":\"3716\",\"type\":\"GlyphRenderer\"},{\"attributes\":{},\"id\":\"3698\",\"type\":\"Selection\"},{\"attributes\":{\"end\":0.5,\"reset_end\":0.5,\"reset_start\":-0.5,\"start\":-0.5,\"tags\":[[[\"x\",\"x\",null]]]},\"id\":\"3659\",\"type\":\"Range1d\"},{\"attributes\":{\"color_mapper\":{\"id\":\"3696\"},\"dh\":{\"field\":\"dh\"},\"dw\":{\"field\":\"dw\"},\"global_alpha\":{\"value\":1.0},\"image\":{\"field\":\"image\"},\"x\":{\"field\":\"x\"},\"y\":{\"field\":\"y\"}},\"id\":\"3708\",\"type\":\"Image\"},{\"attributes\":{},\"id\":\"3728\",\"type\":\"UnionRenderers\"},{\"attributes\":{\"children\":[{\"id\":\"3829\"},{\"id\":\"3832\"}],\"margin\":[0,0,0,0],\"name\":\"\"},\"id\":\"3828\",\"type\":\"Column\"},{\"attributes\":{\"data\":{\"x0\":{\"__ndarray__\":\"\",\"dtype\":\"float64\",\"order\":\"little\",\"shape\":[0]},\"x1\":{\"__ndarray__\":\"\",\"dtype\":\"float64\",\"order\":\"little\",\"shape\":[0]},\"y0\":{\"__ndarray__\":\"\",\"dtype\":\"float64\",\"order\":\"little\",\"shape\":[0]},\"y1\":{\"__ndarray__\":\"\",\"dtype\":\"float64\",\"order\":\"little\",\"shape\":[0]}},\"selected\":{\"id\":\"3711\"},\"selection_policy\":{\"id\":\"3728\"}},\"id\":\"3710\",\"type\":\"ColumnDataSource\"}],\"root_ids\":[\"3647\",\"3871\"]},\"title\":\"Bokeh Application\",\"version\":\"2.4.2\"}};\n",
       "    var render_items = [{\"docid\":\"32d5b595-cd36-48c3-85e5-950fbf7a0374\",\"root_ids\":[\"3647\"],\"roots\":{\"3647\":\"badfedc2-2672-472c-b8b2-a9762d9c23d9\"}}];\n",
       "    root.Bokeh.embed.embed_items_notebook(docs_json, render_items);\n",
       "  }\n",
       "  if (root.Bokeh !== undefined && root.Bokeh.Panel !== undefined) {\n",
       "    embed_document(root);\n",
       "  } else {\n",
       "    var attempts = 0;\n",
       "    var timer = setInterval(function(root) {\n",
       "      if (root.Bokeh !== undefined && root.Bokeh.Panel !== undefined) {\n",
       "        clearInterval(timer);\n",
       "        embed_document(root);\n",
       "      } else if (document.readyState == \"complete\") {\n",
       "        attempts++;\n",
       "        if (attempts > 200) {\n",
       "          clearInterval(timer);\n",
       "          console.log(\"Bokeh: ERROR: Unable to run BokehJS code because BokehJS library is missing\");\n",
       "        }\n",
       "      }\n",
       "    }, 25, root)\n",
       "  }\n",
       "})(window);</script>"
      ],
      "text/plain": [
       "Column\n",
       "    [0] Column\n",
       "        [0] Column\n",
       "            [0] Row(margin=5, width=700)\n",
       "                [0] StaticText(value='<b></b>')\n",
       "                [1] Select(options=OrderedDict([('Component P...]), value=0)\n",
       "                [2] Select(options=OrderedDict([('PiYG', ...]), value='jet')\n",
       "                [3] Button(name='↩')\n",
       "                [4] Button(name='↪')\n",
       "                [5] Checkbox(name='interpolation')\n",
       "        [1] Row\n",
       "            [0] Column\n",
       "                [0] HoloViews(DynamicMap)\n",
       "            [1] Row\n",
       "                [0] Column\n",
       "                    [0] Column(margin=5, name='Component Planes', width=300)\n",
       "                        [0] StaticText(value='<b>Component Planes</b>')\n",
       "                        [1] IntSlider(end=3, name='Component')\n",
       "                    [1] Str(str)\n",
       "    [1] Column\n",
       "        [0] Row()"
      ]
     },
     "execution_count": 13,
     "metadata": {
      "application/vnd.holoviews_exec.v0+json": {
       "id": "3647"
      }
     },
     "output_type": "execute_result"
    }
   ],
   "source": [
    "#train mnemonic SOM on iris data, result can be compared to the 2005 paper \n",
    "#(https://publik.tuwien.ac.at/files/pub-inf_2979.pdf), Figure 3\n",
    "data = idata\n",
    "som = MiniSom(20, 40, data['vec_dim'], sigma=2, learning_rate=1, neighborhood_function = 'lookup',\n",
    "              activation_distance='manhattan_mnemonic' , lookuptable = adjacency_dict,\n",
    "              mnemonic_shape = img_arr)\n",
    "som.train(data['arr'], 1000)\n",
    "\n",
    "#visualize\n",
    "sm = SOMToolbox(weights=som._weights.reshape(-1, data['vec_dim']), \n",
    "                n=40, m=20, dimension=data['vec_dim'], input_data=data['arr'])\n",
    "sm._mainview"
   ]
  },
  {
   "cell_type": "markdown",
   "id": "8cd8b586",
   "metadata": {},
   "source": [
    "#### Normal SOM trained in SOMToolbox and imported"
   ]
  },
  {
   "cell_type": "code",
   "execution_count": 14,
   "id": "4ffeaf50",
   "metadata": {
    "scrolled": false
   },
   "outputs": [
    {
     "data": {},
     "metadata": {},
     "output_type": "display_data"
    },
    {
     "data": {},
     "metadata": {},
     "output_type": "display_data"
    },
    {
     "data": {
      "application/vnd.holoviews_exec.v0+json": "",
      "text/html": [
       "<div id='4144'>\n",
       "\n",
       "\n",
       "\n",
       "\n",
       "\n",
       "  <div class=\"bk-root\" id=\"5a28c03a-b15c-4b51-b5c0-bae18acfaefa\" data-root-id=\"4144\"></div>\n",
       "</div>\n",
       "<script type=\"application/javascript\">(function(root) {\n",
       "  function embed_document(root) {\n",
       "    var docs_json = {\"3aafbf5b-48ba-44ff-94d6-fef0969f4371\":{\"defs\":[{\"extends\":null,\"module\":null,\"name\":\"ReactiveHTML1\",\"overrides\":[],\"properties\":[]},{\"extends\":null,\"module\":null,\"name\":\"FlexBox1\",\"overrides\":[],\"properties\":[{\"default\":\"flex-start\",\"kind\":null,\"name\":\"align_content\"},{\"default\":\"flex-start\",\"kind\":null,\"name\":\"align_items\"},{\"default\":\"row\",\"kind\":null,\"name\":\"flex_direction\"},{\"default\":\"wrap\",\"kind\":null,\"name\":\"flex_wrap\"},{\"default\":\"flex-start\",\"kind\":null,\"name\":\"justify_content\"}]},{\"extends\":null,\"module\":null,\"name\":\"TemplateActions1\",\"overrides\":[],\"properties\":[{\"default\":0,\"kind\":null,\"name\":\"open_modal\"},{\"default\":0,\"kind\":null,\"name\":\"close_modal\"}]},{\"extends\":null,\"module\":null,\"name\":\"MaterialTemplateActions1\",\"overrides\":[],\"properties\":[{\"default\":0,\"kind\":null,\"name\":\"open_modal\"},{\"default\":0,\"kind\":null,\"name\":\"close_modal\"}]}],\"roots\":{\"references\":[{\"attributes\":{\"children\":[{\"id\":\"4158\"}],\"margin\":[0,0,0,0],\"name\":\"Column17405\"},\"id\":\"4155\",\"type\":\"Column\"},{\"attributes\":{\"line_alpha\":{\"value\":0.2},\"line_color\":{\"value\":\"red\"},\"x0\":{\"field\":\"x0\"},\"x1\":{\"field\":\"x1\"},\"y0\":{\"field\":\"y0\"},\"y1\":{\"field\":\"y1\"}},\"id\":\"4212\",\"type\":\"Segment\"},{\"attributes\":{\"data\":{\"x0\":{\"__ndarray__\":\"\",\"dtype\":\"float64\",\"order\":\"little\",\"shape\":[0]},\"x1\":{\"__ndarray__\":\"\",\"dtype\":\"float64\",\"order\":\"little\",\"shape\":[0]},\"y0\":{\"__ndarray__\":\"\",\"dtype\":\"float64\",\"order\":\"little\",\"shape\":[0]},\"y1\":{\"__ndarray__\":\"\",\"dtype\":\"float64\",\"order\":\"little\",\"shape\":[0]}},\"selected\":{\"id\":\"4208\"},\"selection_policy\":{\"id\":\"4225\"}},\"id\":\"4207\",\"type\":\"ColumnDataSource\"},{\"attributes\":{},\"id\":\"4165\",\"type\":\"LinearScale\"},{\"attributes\":{},\"id\":\"4225\",\"type\":\"UnionRenderers\"},{\"attributes\":{\"line_color\":{\"value\":\"red\"},\"x0\":{\"field\":\"x0\"},\"x1\":{\"field\":\"x1\"},\"y0\":{\"field\":\"y0\"},\"y1\":{\"field\":\"y1\"}},\"id\":\"4210\",\"type\":\"Segment\"},{\"attributes\":{},\"id\":\"4191\",\"type\":\"BasicTickFormatter\"},{\"attributes\":{\"coordinates\":null,\"group\":null,\"text_color\":\"black\",\"text_font_size\":\"12pt\"},\"id\":\"4159\",\"type\":\"Title\"},{\"attributes\":{\"color_mapper\":{\"id\":\"4193\"},\"dh\":{\"field\":\"dh\"},\"dw\":{\"field\":\"dw\"},\"global_alpha\":{\"value\":1.0},\"image\":{\"field\":\"image\"},\"x\":{\"field\":\"x\"},\"y\":{\"field\":\"y\"}},\"id\":\"4205\",\"type\":\"Image\"},{\"attributes\":{\"color_mapper\":{\"id\":\"4193\"},\"dh\":{\"field\":\"dh\"},\"dw\":{\"field\":\"dw\"},\"global_alpha\":{\"value\":0.2},\"image\":{\"field\":\"image\"},\"x\":{\"field\":\"x\"},\"y\":{\"field\":\"y\"}},\"id\":\"4201\",\"type\":\"Image\"},{\"attributes\":{\"end\":0.5,\"reset_end\":0.5,\"reset_start\":-0.5,\"start\":-0.5,\"tags\":[[[\"y\",\"y\",null]]]},\"id\":\"4157\",\"type\":\"Range1d\"},{\"attributes\":{\"end\":0.5,\"reset_end\":0.5,\"reset_start\":-0.5,\"start\":-0.5,\"tags\":[[[\"x\",\"x\",null]]]},\"id\":\"4156\",\"type\":\"Range1d\"},{\"attributes\":{\"data\":{\"dh\":[1.0],\"dw\":[1.0],\"image\":[{\"__ndarray__\":\"AqZE6lHSGUCN3cRMI/0ZQC0HlYUiOxpAv91n16C8HUCa9LHEQ4AgQLMNjC9SryBADUSFo8QdIEDxButHLIsZQJnuLs8WExdABoyczDT1FkAYj2T1RHUZQANCWPoosRlAqSWsTs7BGUDFDJcmL1gbQFVlOK7h5R5AP8mj0zYPIECUdsVEuu0dQDuOdLskZxhAJ6YP9brPFkAL55L0kpwWQNyow4+3/hhAdlEKKXC6GEAc8hO99gsWQO8svYuD8xFAG86AJ3lYE0Ct3f0xhMQUQAxE/dqbIxNAXBWwy6PVE0B0RuBrOSgWQEkEBQ83aBZA1rNf0eraEUBbo/qlOgMQQCrTI+MvngVAT3QmqeDv/D/kz4SWexL/P0EHOtZSeAJAtLGzl9N/A0C0XT2WwCIHQG3S9zaGhBFAakRP5NwgFUCSjkKrYX79P16jMgU0X/s/F0wiLe819z+/DN2L0eT1Pyw76Og4HvY/of8JFwhI/T9EDqV4BDoCQGln2HjA3gFA1R2+fNArBUBfZhQ4ecQLQCZCwoH8Au0/X/Rh8xkb6z+7a5meZSruPzBHslJGcvI/xf3kc7G/7j+kQxYa/2juP1VvjpyZ8vg/YsHJdkJ5/D9ct4nk1JH6Pxih0iKLePk/14z4LpmS2j+GtyLHMLnTPyWEwdjNG8k/CAV4RLuq4D8dticdpbDgPwPQzptoztg/hX1kfAmQ5j+Vk6K7YqLzPxnJ3ZeyE/I/OeVmB/M27z+UdppTDx7BP3wMz/xtvcG/qBSqfmhB2L+h8AisiBTCv+zvA6eHfMs/xUTJJBYF3D9oVKvCNl3qP10bkx6b6fQ/ja1/9vm48T8YyI9hPhrsP+UjzYavw50/aHdEH3YTyr9gv7unIfbevwtKS9JQ1Nm/gec8tPAO0L8TQHY9UE3bP683ijEnCfY/AaUX4tTW+z9tm5DpaUL7P0zsHOwjwvo/LbHsS9YjsD/4iUlwryfKvwIlDrBvOti/QnuuKrFS17/xnQGkOj7Uv2Fx2ryrvd8/nITKzPEb+j+23DbnEU39P5dHSn3BhwFAUut0VqdZBUA=\",\"dtype\":\"float64\",\"order\":\"little\",\"shape\":[10,10]}],\"x\":[-0.5],\"y\":[-0.5]},\"selected\":{\"id\":\"4195\"},\"selection_policy\":{\"id\":\"4223\"}},\"id\":\"4194\",\"type\":\"ColumnDataSource\"},{\"attributes\":{},\"id\":\"4163\",\"type\":\"LinearScale\"},{\"attributes\":{\"children\":[{\"id\":\"4326\"},{\"id\":\"4329\"}],\"margin\":[0,0,0,0],\"name\":\"\"},\"id\":\"4325\",\"type\":\"Column\"},{\"attributes\":{\"source\":{\"id\":\"4207\"}},\"id\":\"4214\",\"type\":\"CDSView\"},{\"attributes\":{\"coordinates\":null,\"data_source\":{\"id\":\"4207\"},\"glyph\":{\"id\":\"4210\"},\"group\":null,\"hover_glyph\":null,\"muted_glyph\":{\"id\":\"4212\"},\"nonselection_glyph\":{\"id\":\"4211\"},\"selection_glyph\":{\"id\":\"4215\"},\"view\":{\"id\":\"4214\"}},\"id\":\"4213\",\"type\":\"GlyphRenderer\"},{\"attributes\":{\"children\":[{\"id\":\"4325\"}],\"margin\":[0,0,0,0],\"name\":\"Row17406\"},\"id\":\"4324\",\"type\":\"Row\"},{\"attributes\":{\"children\":[{\"id\":\"4331\"}],\"margin\":[0,0,0,0],\"name\":\"Column17410\"},\"id\":\"4330\",\"type\":\"Column\"},{\"attributes\":{\"axis\":{\"id\":\"4171\"},\"coordinates\":null,\"dimension\":1,\"grid_line_color\":null,\"group\":null,\"ticker\":null},\"id\":\"4174\",\"type\":\"Grid\"},{\"attributes\":{},\"id\":\"4192\",\"type\":\"AllLabels\"},{\"attributes\":{\"line_alpha\":{\"value\":1.0},\"line_cap\":{\"value\":\"butt\"},\"line_color\":{\"value\":\"red\"},\"line_dash\":{\"value\":[]},\"line_dash_offset\":{\"value\":0},\"line_join\":{\"value\":\"bevel\"},\"line_width\":{\"value\":1},\"x0\":{\"field\":\"x0\"},\"x1\":{\"field\":\"x1\"},\"y0\":{\"field\":\"y0\"},\"y1\":{\"field\":\"y1\"}},\"id\":\"4215\",\"type\":\"Segment\"},{\"attributes\":{\"children\":[{\"id\":\"4327\"},{\"id\":\"4328\"}],\"margin\":[5,5,5,5],\"min_width\":300,\"name\":\"Component Planes\",\"width\":300},\"id\":\"4326\",\"type\":\"Column\"},{\"attributes\":{\"below\":[{\"id\":\"4167\"}],\"center\":[{\"id\":\"4170\"},{\"id\":\"4174\"}],\"height\":500,\"left\":[{\"id\":\"4171\"}],\"margin\":[5,5,5,5],\"min_border_bottom\":10,\"min_border_left\":10,\"min_border_right\":10,\"min_border_top\":10,\"renderers\":[{\"id\":\"4203\"},{\"id\":\"4213\"}],\"sizing_mode\":\"fixed\",\"title\":{\"id\":\"4159\"},\"toolbar\":{\"id\":\"4181\"},\"width\":500,\"x_range\":{\"id\":\"4156\"},\"x_scale\":{\"id\":\"4163\"},\"y_range\":{\"id\":\"4157\"},\"y_scale\":{\"id\":\"4165\"}},\"id\":\"4158\",\"subtype\":\"Figure\",\"type\":\"Plot\"},{\"attributes\":{\"children\":[{\"id\":\"4146\"},{\"id\":\"4154\"}],\"margin\":[0,0,0,0],\"name\":\"Column17409\"},\"id\":\"4145\",\"type\":\"Column\"},{\"attributes\":{\"coordinates\":null,\"data_source\":{\"id\":\"4194\"},\"glyph\":{\"id\":\"4197\"},\"group\":null,\"hover_glyph\":null,\"muted_glyph\":{\"id\":\"4201\"},\"nonselection_glyph\":{\"id\":\"4199\"},\"selection_glyph\":{\"id\":\"4205\"},\"view\":{\"id\":\"4204\"}},\"id\":\"4203\",\"type\":\"GlyphRenderer\"},{\"attributes\":{},\"id\":\"4208\",\"type\":\"Selection\"},{\"attributes\":{\"margin\":[5,10,5,10],\"name\":\"\",\"text\":\"<b>Component Planes</b>\"},\"id\":\"4327\",\"type\":\"Div\"},{\"attributes\":{\"client_comm_id\":\"4e8443ebf0c949ebb2d45f7d8d9f5907\",\"comm_id\":\"1f71dd6e15654112bde1960a7868dbc6\",\"plot_id\":\"4144\"},\"id\":\"4368\",\"type\":\"panel.models.comm_manager.CommManager\"},{\"attributes\":{\"axis\":{\"id\":\"4167\"},\"coordinates\":null,\"grid_line_color\":null,\"group\":null,\"ticker\":null},\"id\":\"4170\",\"type\":\"Grid\"},{\"attributes\":{\"children\":[{\"id\":\"4147\"}],\"margin\":[0,0,0,0],\"name\":\"Column17384\"},\"id\":\"4146\",\"type\":\"Column\"},{\"attributes\":{\"high\":8.34242390236509,\"low\":-0.48377267246450195,\"nan_color\":\"rgba(0, 0, 0, 0)\",\"palette\":[\"#00007f\",\"#000084\",\"#000088\",\"#00008d\",\"#000091\",\"#000096\",\"#00009a\",\"#00009f\",\"#0000a3\",\"#0000a8\",\"#0000ac\",\"#0000b1\",\"#0000b6\",\"#0000ba\",\"#0000bf\",\"#0000c3\",\"#0000c8\",\"#0000cc\",\"#0000d1\",\"#0000d5\",\"#0000da\",\"#0000de\",\"#0000e3\",\"#0000e8\",\"#0000ec\",\"#0000f1\",\"#0000f5\",\"#0000fa\",\"#0000fe\",\"#0000ff\",\"#0000ff\",\"#0000ff\",\"#0000ff\",\"#0004ff\",\"#0008ff\",\"#000cff\",\"#0010ff\",\"#0014ff\",\"#0018ff\",\"#001cff\",\"#0020ff\",\"#0024ff\",\"#0028ff\",\"#002cff\",\"#0030ff\",\"#0034ff\",\"#0038ff\",\"#003cff\",\"#0040ff\",\"#0044ff\",\"#0048ff\",\"#004cff\",\"#0050ff\",\"#0054ff\",\"#0058ff\",\"#005cff\",\"#0060ff\",\"#0064ff\",\"#0068ff\",\"#006cff\",\"#0070ff\",\"#0074ff\",\"#0078ff\",\"#007cff\",\"#0080ff\",\"#0084ff\",\"#0088ff\",\"#008cff\",\"#0090ff\",\"#0094ff\",\"#0098ff\",\"#009cff\",\"#00a0ff\",\"#00a4ff\",\"#00a8ff\",\"#00acff\",\"#00b0ff\",\"#00b4ff\",\"#00b8ff\",\"#00bcff\",\"#00c0ff\",\"#00c4ff\",\"#00c8ff\",\"#00ccff\",\"#00d0ff\",\"#00d4ff\",\"#00d8ff\",\"#00dcfe\",\"#00e0fa\",\"#00e4f7\",\"#02e8f4\",\"#05ecf1\",\"#08f0ed\",\"#0cf4ea\",\"#0ff8e7\",\"#12fce4\",\"#15ffe1\",\"#18ffdd\",\"#1cffda\",\"#1fffd7\",\"#22ffd4\",\"#25ffd0\",\"#29ffcd\",\"#2cffca\",\"#2fffc7\",\"#32ffc3\",\"#36ffc0\",\"#39ffbd\",\"#3cffba\",\"#3fffb7\",\"#42ffb3\",\"#46ffb0\",\"#49ffad\",\"#4cffaa\",\"#4fffa6\",\"#53ffa3\",\"#56ffa0\",\"#59ff9d\",\"#5cff9a\",\"#5fff96\",\"#63ff93\",\"#66ff90\",\"#69ff8d\",\"#6cff89\",\"#70ff86\",\"#73ff83\",\"#76ff80\",\"#79ff7d\",\"#7cff79\",\"#80ff76\",\"#83ff73\",\"#86ff70\",\"#89ff6c\",\"#8dff69\",\"#90ff66\",\"#93ff63\",\"#96ff5f\",\"#9aff5c\",\"#9dff59\",\"#a0ff56\",\"#a3ff53\",\"#a6ff4f\",\"#aaff4c\",\"#adff49\",\"#b0ff46\",\"#b3ff42\",\"#b7ff3f\",\"#baff3c\",\"#bdff39\",\"#c0ff36\",\"#c3ff32\",\"#c7ff2f\",\"#caff2c\",\"#cdff29\",\"#d0ff25\",\"#d4ff22\",\"#d7ff1f\",\"#daff1c\",\"#ddff18\",\"#e0ff15\",\"#e4ff12\",\"#e7ff0f\",\"#eaff0c\",\"#edff08\",\"#f1fc05\",\"#f4f802\",\"#f7f400\",\"#faf000\",\"#feed00\",\"#ffe900\",\"#ffe500\",\"#ffe200\",\"#ffde00\",\"#ffda00\",\"#ffd700\",\"#ffd300\",\"#ffcf00\",\"#ffcb00\",\"#ffc800\",\"#ffc400\",\"#ffc000\",\"#ffbd00\",\"#ffb900\",\"#ffb500\",\"#ffb100\",\"#ffae00\",\"#ffaa00\",\"#ffa600\",\"#ffa300\",\"#ff9f00\",\"#ff9b00\",\"#ff9800\",\"#ff9400\",\"#ff9000\",\"#ff8c00\",\"#ff8900\",\"#ff8500\",\"#ff8100\",\"#ff7e00\",\"#ff7a00\",\"#ff7600\",\"#ff7300\",\"#ff6f00\",\"#ff6b00\",\"#ff6700\",\"#ff6400\",\"#ff6000\",\"#ff5c00\",\"#ff5900\",\"#ff5500\",\"#ff5100\",\"#ff4d00\",\"#ff4a00\",\"#ff4600\",\"#ff4200\",\"#ff3f00\",\"#ff3b00\",\"#ff3700\",\"#ff3400\",\"#ff3000\",\"#ff2c00\",\"#ff2800\",\"#ff2500\",\"#ff2100\",\"#ff1d00\",\"#ff1a00\",\"#ff1600\",\"#fe1200\",\"#fa0f00\",\"#f50b00\",\"#f10700\",\"#ec0300\",\"#e80000\",\"#e30000\",\"#de0000\",\"#da0000\",\"#d50000\",\"#d10000\",\"#cc0000\",\"#c80000\",\"#c30000\",\"#bf0000\",\"#ba0000\",\"#b60000\",\"#b10000\",\"#ac0000\",\"#a80000\",\"#a30000\",\"#9f0000\",\"#9a0000\",\"#960000\",\"#910000\",\"#8d0000\",\"#880000\",\"#840000\",\"#7f0000\"]},\"id\":\"4193\",\"type\":\"LinearColorMapper\"},{\"attributes\":{\"line_alpha\":{\"value\":0.1},\"line_color\":{\"value\":\"red\"},\"x0\":{\"field\":\"x0\"},\"x1\":{\"field\":\"x1\"},\"y0\":{\"field\":\"y0\"},\"y1\":{\"field\":\"y1\"}},\"id\":\"4211\",\"type\":\"Segment\"},{\"attributes\":{},\"id\":\"4172\",\"type\":\"BasicTicker\"},{\"attributes\":{\"axis_label\":\"x\",\"coordinates\":null,\"formatter\":{\"id\":\"4188\"},\"group\":null,\"major_label_policy\":{\"id\":\"4189\"},\"ticker\":{\"id\":\"4168\"}},\"id\":\"4167\",\"type\":\"LinearAxis\"},{\"attributes\":{\"children\":[{\"id\":\"4148\"},{\"id\":\"4149\"},{\"id\":\"4150\"},{\"id\":\"4151\"},{\"id\":\"4152\"},{\"id\":\"4153\"}],\"margin\":[5,5,5,5],\"min_width\":700,\"name\":\"\",\"width\":700},\"id\":\"4147\",\"type\":\"Row\"},{\"attributes\":{\"end\":9,\"margin\":[5,10,5,10],\"start\":0,\"title\":\"1\",\"value\":0},\"id\":\"4328\",\"type\":\"Slider\"},{\"attributes\":{\"children\":[{\"id\":\"4155\"},{\"id\":\"4324\"}],\"margin\":[0,0,0,0],\"name\":\"Row17408\"},\"id\":\"4154\",\"type\":\"Row\"},{\"attributes\":{\"margin\":[5,5,5,5],\"name\":\"Str17424\",\"text\":\"&lt;pre&gt;Slicing weight vector according it&#x27;s components.&lt;/pre&gt;\"},\"id\":\"4329\",\"type\":\"panel.models.markup.HTML\"},{\"attributes\":{},\"id\":\"4176\",\"type\":\"PanTool\"},{\"attributes\":{\"source\":{\"id\":\"4194\"}},\"id\":\"4204\",\"type\":\"CDSView\"},{\"attributes\":{},\"id\":\"4195\",\"type\":\"Selection\"},{\"attributes\":{\"margin\":[5,10,5,10],\"name\":\"\",\"text\":\"<b></b>\"},\"id\":\"4148\",\"type\":\"Div\"},{\"attributes\":{},\"id\":\"4189\",\"type\":\"AllLabels\"},{\"attributes\":{\"tools\":[{\"id\":\"4175\"},{\"id\":\"4176\"},{\"id\":\"4177\"},{\"id\":\"4178\"},{\"id\":\"4179\"}]},\"id\":\"4181\",\"type\":\"Toolbar\"},{\"attributes\":{\"margin\":[5,10,5,10],\"options\":[[\"0\",\"Component Planes\"],[\"1\",\"Hit Histogram\"],[\"2\",\"U-matrix\"],[\"3\",\"D-Matrix\"],[\"4\",\"P-matrix & U*-matrix\"],[\"5\",\"Smoothed Data Histograms\"],[\"6\",\"Pie Chart\"],[\"7\",\"Neighbourhood Graph\"],[\"8\",\"Chessboard\"],[\"9\",\"Clustering\"],[\"10\",\"Metro Map\"],[\"11\",\"Quantization Error\"],[\"12\",\"Time Series\"]],\"value\":\"0\"},\"id\":\"4149\",\"type\":\"Select\"},{\"attributes\":{},\"id\":\"4223\",\"type\":\"UnionRenderers\"},{\"attributes\":{\"children\":[{\"id\":\"4145\"},{\"id\":\"4330\"}],\"margin\":[0,0,0,0],\"name\":\"Column17411\"},\"id\":\"4144\",\"type\":\"Column\"},{\"attributes\":{\"color_mapper\":{\"id\":\"4193\"},\"dh\":{\"field\":\"dh\"},\"dw\":{\"field\":\"dw\"},\"image\":{\"field\":\"image\"},\"x\":{\"field\":\"x\"},\"y\":{\"field\":\"y\"}},\"id\":\"4197\",\"type\":\"Image\"},{\"attributes\":{},\"id\":\"4177\",\"type\":\"WheelZoomTool\"},{\"attributes\":{},\"id\":\"4168\",\"type\":\"BasicTicker\"},{\"attributes\":{\"axis_label\":\"y\",\"coordinates\":null,\"formatter\":{\"id\":\"4191\"},\"group\":null,\"major_label_policy\":{\"id\":\"4192\"},\"ticker\":{\"id\":\"4172\"}},\"id\":\"4171\",\"type\":\"LinearAxis\"},{\"attributes\":{\"margin\":[0,0,0,0],\"name\":\"Row17407\"},\"id\":\"4331\",\"type\":\"Row\"},{\"attributes\":{\"icon\":null,\"label\":\"\\u21aa\",\"margin\":[5,10,5,10],\"subscribed_events\":[\"button_click\"]},\"id\":\"4152\",\"type\":\"Button\"},{\"attributes\":{},\"id\":\"4175\",\"type\":\"SaveTool\"},{\"attributes\":{},\"id\":\"4188\",\"type\":\"BasicTickFormatter\"},{\"attributes\":{\"margin\":[5,10,5,10],\"options\":[[\"PiYG\",\"PiYG\"],[\"PRGn\",\"PRGn\"],[\"BrBG\",\"BrBG\"],[\"PuOr\",\"PuOr\"],[\"RdGy\",\"RdGy\"],[\"RdBu\",\"RdBu\"],[\"RdYlBu\",\"RdYlBu\"],[\"RdYlGn\",\"RdYlGn\"],[\"Spectral\",\"Spectral\"],[\"coolwarm\",\"coolwarm\"],[\"bwr\",\"bwr\"],[\"seismic\",\"seismic\"],[\"gist_gray\",\"gist_gray\"],[\"bone\",\"bone\"],[\"pink\",\"pink\"],[\"spring\",\"spring\"],[\"summer\",\"summer\"],[\"autumn\",\"autumn\"],[\"winter\",\"winter\"],[\"cool\",\"cool\"],[\"Wistia\",\"Wistia\"],[\"hot\",\"hot\"],[\"afmhot\",\"afmhot\"],[\"gist_heat\",\"gist_heat\"],[\"copper\",\"copper\"],[\"Greys\",\"Greys\"],[\"Purples\",\"Purples\"],[\"Blues\",\"Blues\"],[\"Greens\",\"Greens\"],[\"Oranges\",\"Oranges\"],[\"Reds\",\"Reds\"],[\"YlOrBr\",\"YlOrBr\"],[\"YlOrRd\",\"YlOrRd\"],[\"OrRd\",\"OrRd\"],[\"PuRd\",\"PuRd\"],[\"RdPu\",\"RdPu\"],[\"BuPu\",\"BuPu\"],[\"GnBu\",\"GnBu\"],[\"PuBu\",\"PuBu\"],[\"YlGnBu\",\"YlGnBu\"],[\"PuBuGn\",\"PuBuGn\"],[\"BuGn\",\"BuGn\"],[\"YlGn\",\"YlGn\"],[\"viridis\",\"viridis\"],[\"plasma\",\"plasma\"],[\"inferno\",\"inferno\"],[\"magma\",\"magma\"],[\"cividis\",\"cividis\"],[\"twilight\",\"twilight\"],[\"twilight_shifted\",\"twilight_shifted\"],[\"hsv\",\"hsv\"],[\"Pastel1\",\"Pastel1\"],[\"Paired\",\"Paired\"],[\"Accent\",\"Accent\"],[\"Dark2\",\"Dark2\"],[\"Set1\",\"Set1\"],[\"Set2\",\"Set2\"],[\"Set3\",\"Set3\"],[\"tab10\",\"tab10\"],[\"tab20\",\"tab20\"],[\"tab20b\",\"tab20b\"],[\"tab20c\",\"tab20c\"],[\"flag\",\"flag\"],[\"prism\",\"prism\"],[\"ocean\",\"ocean\"],[\"gist_earth\",\"gist_earth\"],[\"terrain\",\"terrain\"],[\"gist_stern\",\"gist_stern\"],[\"gnuplot\",\"gnuplot\"],[\"gnuplot2\",\"gnuplot2\"],[\"CMRmap\",\"CMRmap\"],[\"cubehelix\",\"cubehelix\"],[\"brg\",\"brg\"],[\"gist_rainbow\",\"gist_rainbow\"],[\"rainbow\",\"rainbow\"],[\"jet\",\"jet\"],[\"turbo\",\"turbo\"],[\"nipy_spectral\",\"nipy_spectral\"],[\"gist_ncar\",\"gist_ncar\"],[\"glasbey_dark\",\"glasbey_dark\"]],\"value\":\"jet\"},\"id\":\"4150\",\"type\":\"Select\"},{\"attributes\":{\"overlay\":{\"id\":\"4180\"}},\"id\":\"4178\",\"type\":\"BoxZoomTool\"},{\"attributes\":{},\"id\":\"4179\",\"type\":\"ResetTool\"},{\"attributes\":{\"icon\":null,\"label\":\"\\u21a9\",\"margin\":[5,10,5,10],\"subscribed_events\":[\"button_click\"]},\"id\":\"4151\",\"type\":\"Button\"},{\"attributes\":{\"bottom_units\":\"screen\",\"coordinates\":null,\"fill_alpha\":0.5,\"fill_color\":\"lightgrey\",\"group\":null,\"left_units\":\"screen\",\"level\":\"overlay\",\"line_alpha\":1.0,\"line_color\":\"black\",\"line_dash\":[4,4],\"line_width\":2,\"right_units\":\"screen\",\"syncable\":false,\"top_units\":\"screen\"},\"id\":\"4180\",\"type\":\"BoxAnnotation\"},{\"attributes\":{\"labels\":[\"interpolation\"],\"margin\":[5,10,5,10]},\"id\":\"4153\",\"type\":\"CheckboxGroup\"},{\"attributes\":{\"color_mapper\":{\"id\":\"4193\"},\"dh\":{\"field\":\"dh\"},\"dw\":{\"field\":\"dw\"},\"global_alpha\":{\"value\":0.1},\"image\":{\"field\":\"image\"},\"x\":{\"field\":\"x\"},\"y\":{\"field\":\"y\"}},\"id\":\"4199\",\"type\":\"Image\"}],\"root_ids\":[\"4144\",\"4368\"]},\"title\":\"Bokeh Application\",\"version\":\"2.4.2\"}};\n",
       "    var render_items = [{\"docid\":\"3aafbf5b-48ba-44ff-94d6-fef0969f4371\",\"root_ids\":[\"4144\"],\"roots\":{\"4144\":\"5a28c03a-b15c-4b51-b5c0-bae18acfaefa\"}}];\n",
       "    root.Bokeh.embed.embed_items_notebook(docs_json, render_items);\n",
       "  }\n",
       "  if (root.Bokeh !== undefined && root.Bokeh.Panel !== undefined) {\n",
       "    embed_document(root);\n",
       "  } else {\n",
       "    var attempts = 0;\n",
       "    var timer = setInterval(function(root) {\n",
       "      if (root.Bokeh !== undefined && root.Bokeh.Panel !== undefined) {\n",
       "        clearInterval(timer);\n",
       "        embed_document(root);\n",
       "      } else if (document.readyState == \"complete\") {\n",
       "        attempts++;\n",
       "        if (attempts > 200) {\n",
       "          clearInterval(timer);\n",
       "          console.log(\"Bokeh: ERROR: Unable to run BokehJS code because BokehJS library is missing\");\n",
       "        }\n",
       "      }\n",
       "    }, 25, root)\n",
       "  }\n",
       "})(window);</script>"
      ],
      "text/plain": [
       "Column\n",
       "    [0] Column\n",
       "        [0] Column\n",
       "            [0] Row(margin=5, width=700)\n",
       "                [0] StaticText(value='<b></b>')\n",
       "                [1] Select(options=OrderedDict([('Component P...]), value=0)\n",
       "                [2] Select(options=OrderedDict([('PiYG', ...]), value='jet')\n",
       "                [3] Button(name='↩')\n",
       "                [4] Button(name='↪')\n",
       "                [5] Checkbox(name='interpolation')\n",
       "        [1] Row\n",
       "            [0] Column\n",
       "                [0] HoloViews(DynamicMap)\n",
       "            [1] Row\n",
       "                [0] Column\n",
       "                    [0] Column(margin=5, name='Component Planes', width=300)\n",
       "                        [0] StaticText(value='<b>Component Planes</b>')\n",
       "                        [1] IntSlider(end=9, name='1')\n",
       "                    [1] Str(str)\n",
       "    [1] Column\n",
       "        [0] Row()"
      ]
     },
     "execution_count": 14,
     "metadata": {
      "application/vnd.holoviews_exec.v0+json": {
       "id": "4144"
      }
     },
     "output_type": "execute_result"
    }
   ],
   "source": [
    "# SOM trained on cluster dataset from SOMToolbox page\n",
    "\n",
    "sm = SOMToolbox(weights=clusters_weight['arr'],m=clusters_weight['ydim'],n=clusters_weight['xdim'],\n",
    "                dimension=clusters_weight['vec_dim'], input_data=clusters_data['arr'],\n",
    "               classes=clusters_classes['arr'], component_names=clusters_classes['classes_names'])\n",
    "sm._mainview"
   ]
  }
 ],
 "metadata": {
  "kernelspec": {
   "display_name": "Python 3 (ipykernel)",
   "language": "python",
   "name": "python3"
  },
  "language_info": {
   "codemirror_mode": {
    "name": "ipython",
    "version": 3
   },
   "file_extension": ".py",
   "mimetype": "text/x-python",
   "name": "python",
   "nbconvert_exporter": "python",
   "pygments_lexer": "ipython3",
   "version": "3.9.7"
  }
 },
 "nbformat": 4,
 "nbformat_minor": 5
}
